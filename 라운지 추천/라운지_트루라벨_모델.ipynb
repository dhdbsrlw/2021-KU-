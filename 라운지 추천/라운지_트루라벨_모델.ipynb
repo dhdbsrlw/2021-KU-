{
  "nbformat": 4,
  "nbformat_minor": 0,
  "metadata": {
    "colab": {
      "name": "라운지_트루라벨_모델 최종.ipynb",
      "provenance": [],
      "collapsed_sections": []
    },
    "kernelspec": {
      "name": "python3",
      "display_name": "Python 3"
    },
    "language_info": {
      "name": "python"
    }
  },
  "cells": [
    {
      "cell_type": "code",
      "metadata": {
        "colab": {
          "base_uri": "https://localhost:8080/"
        },
        "id": "T-xkY8vk1EnO",
        "outputId": "25bd88b6-5742-485e-a239-58ab2d11cd42"
      },
      "source": [
        "from google.colab import drive\n",
        "drive.mount('/content/drive/')"
      ],
      "execution_count": null,
      "outputs": [
        {
          "output_type": "stream",
          "text": [
            "Mounted at /content/drive/\n"
          ],
          "name": "stdout"
        }
      ]
    },
    {
      "cell_type": "code",
      "metadata": {
        "id": "_n3Zp09Gh-xh"
      },
      "source": [
        "import pandas as pd\n",
        "import numpy as np\n",
        "import requests\n",
        "import json"
      ],
      "execution_count": null,
      "outputs": []
    },
    {
      "cell_type": "code",
      "metadata": {
        "id": "5UVL-7_ViArb"
      },
      "source": [
        "# 라운지 가상 사용자 파일 가져오기 / 구성: 사용자\t위치\t시간\t사용자 수\t책상 높이\t콘센트 필요도\t컴퓨터 필요도\t정수기/화장실 유무\n",
        "raw_data_user = pd.read_csv('/content/drive/My Drive/데이터톤/보고서 작성 시 사용할 최종 파일/데이터 및 전처리/라운지+혼잡도/라운지 사용자 5000 최종.csv',encoding='euc-kr')\n",
        "\n",
        "#\t가상 라운지 파일 가져오기 / 구성: 라운지\t위치(층)\t책상 높이\t테이블 수\t의자 수\t냉난방장치\t콘센트 수\t창문\t컴퓨터\t정수기\t화장실\t혼잡도  건물\n",
        "raw_data_lounge = pd.read_csv('/content/drive/My Drive/데이터톤/보고서 작성 시 사용할 최종 파일/데이터 및 전처리/라운지+혼잡도/라운지 데이터 최종.csv',encoding='euc-kr')\n",
        "raw_data_lounge['건물'] = raw_data_lounge['건물'].replace({' ':''}, regex=True)\n",
        "\n",
        "# 랜드마크 간의 거리 가져오기\n",
        "distance_buildings = pd.read_csv('/content/drive/My Drive/데이터톤/보고서 작성 시 사용할 최종 파일/데이터 및 전처리/건물별 이동시간 최종.csv',encoding='utf-8')\n",
        "\n",
        "# 혼잡도 파일 가져오기\n",
        "con_0 = pd.read_csv('/content/drive/My Drive/데이터톤/보고서 작성 시 사용할 최종 파일/데이터 및 전처리/라운지+혼잡도/혼잡도_월.csv')\n",
        "con_1 = pd.read_csv('/content/drive/My Drive/데이터톤/보고서 작성 시 사용할 최종 파일/데이터 및 전처리/라운지+혼잡도/혼잡도_화.csv')\n",
        "con_2 = pd.read_csv('/content/drive/My Drive/데이터톤/보고서 작성 시 사용할 최종 파일/데이터 및 전처리/라운지+혼잡도/혼잡도_수.csv')\n",
        "con_3 = pd.read_csv('/content/drive/My Drive/데이터톤/보고서 작성 시 사용할 최종 파일/데이터 및 전처리/라운지+혼잡도/혼잡도_목.csv')\n",
        "con_4 = pd.read_csv('/content/drive/My Drive/데이터톤/보고서 작성 시 사용할 최종 파일/데이터 및 전처리/라운지+혼잡도/혼잡도_금.csv')"
      ],
      "execution_count": null,
      "outputs": []
    },
    {
      "cell_type": "code",
      "metadata": {
        "id": "rvoekcQpVZRR"
      },
      "source": [
        "# 모든 라운지에 대한 각 사용자 별 점수 계산\n",
        "def lounge_score(user,theme):\n",
        "\n",
        "    user_building = user['위치']\n",
        "    distance = distance_buildings[['building', user_building]].copy()\n",
        "    distance.rename(columns = {user_building: '거리'}, inplace = True)\n",
        "\n",
        "    #라운지\t위치(층)\t책상 높이\t테이블 수\t의자 수\t냉난방장치\t콘센트 수\t창문\t컴퓨터\t정수기\t화장실\t혼잡도\t건물\t***거리\n",
        "    lounge_with_distance = pd.merge(raw_data_lounge, distance, left_on= '건물', right_on='building', how ='left' ).drop(columns=['building'])\n",
        "\n",
        "    day = str(pd.to_datetime(user['시간'].split('T')[0]).dayofweek)\n",
        "    user_c = con_0\n",
        "\n",
        "    #find day\n",
        "    if day==1:\n",
        "        user_c = con_1\n",
        "    elif day==2:\n",
        "        user_c = con_2\n",
        "    elif day==3:\n",
        "        user_c = con_3\n",
        "    elif day==4:\n",
        "        user_c = con_4\n",
        "\n",
        "    range = pd.date_range(\"09:00\", \"23:30\", freq=\"30min\").strftime('%H:%M:%S')\n",
        "    dt = pd.to_datetime(user['시간']).round('30min')\n",
        "    user_c_r = range.get_loc(str(dt).split(' ')[1].split('+')[0])\n",
        "\n",
        "    #라운지\t위치(층)\t책상 높이\t테이블 수\t의자 수\t냉난방장치\t콘센트 수\t창문\t컴퓨터\t정수기\t화장실\t***혼잡도\t건물    거리\n",
        "    final_lounge = lounge_with_distance\n",
        "    final_lounge['혼잡도']=final_lounge.apply(lambda row: user_c[row.건물][user_c_r], axis=1)\n",
        "\n",
        "\n",
        "    # 정규화\n",
        "    '''\n",
        "    norm lists :-\n",
        "        1) desk_norm : 책상높이가 사용자 선호와 같으면 1\n",
        "        2) facilities_norm : 정수기/화장실이 사용자 선호와 가까울수록 1 (하나당 -0.5)\n",
        "        3) chair_norm : 의자 수 >= 사용자 수 면 1\n",
        "        4) person_per_table_norm : 사용자 수와 책상별 앉을 수 있는 사람의 수가 비슷할수록 1\n",
        "        5) plugs_norm : 콘센트 수 ~ 사용자 필요도\n",
        "        6) computers_norm : 컴퓨터 수 ~ 사용자 필요도\n",
        "        7) distance_norm : 거리가 멀수록 0 가까울수록 1\n",
        "        8) congestion_norm : 혼잡할수록 0 가까울수록 1\n",
        "        9) ac_norm : 있으면 1 없으면 0\n",
        "        10) window_norm : 있으면 1 없으면 0\n",
        "    '''\n",
        "    satisfy_user_idx = final_lounge['책상 높이'] == user['책상 높이']\n",
        "    desk_norm = final_lounge['라운지'].copy()\n",
        "    desk_norm[satisfy_user_idx] = 1\n",
        "    desk_norm[~satisfy_user_idx] = 0\n",
        "\n",
        "    satisfy_user_idx = final_lounge['정수기'] == user['정수기/화장실 유무']\n",
        "    facilities_norm = final_lounge['라운지'].copy()\n",
        "    facilities_norm[satisfy_user_idx] = 0.5\n",
        "    facilities_norm[~satisfy_user_idx] = 0.0\n",
        "    satisfy_user_idx = final_lounge['화장실'] == user['정수기/화장실 유무']\n",
        "    facilities_norm[satisfy_user_idx] += 0.5\n",
        "    facilities_norm[~satisfy_user_idx] += 0.0\n",
        "\n",
        "    satisfy_user_idx = final_lounge['의자 수'] >= user['사용자 수']\n",
        "    chair_norm = final_lounge['라운지'].copy()\n",
        "    chair_norm[satisfy_user_idx] = 1\n",
        "    chair_norm[~satisfy_user_idx] = 0\n",
        "\n",
        "    person_per_table_diff = abs(user['사용자 수'] - (final_lounge['의자 수']/final_lounge['테이블 수']))\n",
        "    person_per_table_norm = 1 - (person_per_table_diff/(person_per_table_diff.max()-person_per_table_diff.min()))\n",
        "\n",
        "    plugs = (final_lounge['콘센트 수']/final_lounge['의자 수'])*user['콘센트 필요도']\n",
        "    plugs_norm = (plugs-plugs.min())/(plugs.max()-plugs.min())\n",
        "\n",
        "    #멀수록 0 가까울수록 1\n",
        "    distance_norm = 1 - (final_lounge['거리']-final_lounge['거리'].min())/(final_lounge['거리'].max()-final_lounge['거리'].min())\n",
        "\n",
        "    #혼잡할수록 0 한가할수록 1\n",
        "    congestion_norm = 1 - (final_lounge['혼잡도']-final_lounge['혼잡도'].min())/(final_lounge['혼잡도'].max()-final_lounge['혼잡도'].min())\n",
        "\n",
        "    computers = (final_lounge['컴퓨터']/final_lounge['의자 수'])*user['컴퓨터 필요도']\n",
        "    computers_norm = (computers-computers.min())/(computers.max()-computers.min())\n",
        "\n",
        "    ac_norm = final_lounge['냉난방장치']\n",
        "\n",
        "    window_norm = final_lounge['창문']\n",
        "\n",
        "    # 테마 구분\n",
        "    # 1. 휴식\n",
        "    if theme == 1:\n",
        "        scores = desk_norm*0.71+facilities_norm*0.68+chair_norm+person_per_table_norm+plugs_norm*0.68+computers_norm*0.115+distance_norm*4+congestion_norm*5+ac_norm*0.5+window_norm*0.1\n",
        "    # 2. 대화\n",
        "    elif theme == 2:\n",
        "        scores = desk_norm*0.15+facilities_norm*0.68+chair_norm+person_per_table_norm+plugs_norm*0.88+computers_norm*0.115+distance_norm*4+(1-congestion_norm)*3.5+ac_norm*0.5+window_norm*0.1\n",
        "    # 3. 팀공부\n",
        "    elif theme == 3:\n",
        "        scores = desk_norm*0.71+facilities_norm*0.68+chair_norm+person_per_table_norm+plugs_norm*0.88+computers_norm*0.115+distance_norm*4+(1-congestion_norm)*3.5+ac_norm*0.5+window_norm*0.1\n",
        "    # 0. 공부\n",
        "    else:\n",
        "        scores = desk_norm*0.71+facilities_norm*0.68+chair_norm+person_per_table_norm+plugs_norm*0.68+computers_norm*0.115+distance_norm*4+congestion_norm*3+ac_norm*0.5+window_norm*0.1\n",
        "\n",
        "    return scores"
      ],
      "execution_count": null,
      "outputs": []
    },
    {
      "cell_type": "code",
      "metadata": {
        "id": "KAfe5-334o_9"
      },
      "source": [
        "# 사용자의 라운지 점수(true label)에 대한 dataframe 생성\n",
        "df_final = pd.DataFrame(columns=['user_index','score'])\n",
        "for idx,row in raw_data_user.iterrows():\n",
        "    print(row['사용자'])\n",
        "    df_final = df_final.append({'user_index' : row['사용자'] , 'score' : lounge_score(row,3).tolist()} , ignore_index=True)\n",
        "\n",
        "from google.colab import files\n",
        "\n",
        "# 사용자의 라운지 점수(true label) 저장 \n",
        "df_final.to_csv('라운지_트루라벨_3.csv', index = None,encoding='euc-kr') \n",
        "files.download('라운지_트루라벨_3.csv')"
      ],
      "execution_count": null,
      "outputs": []
    }
  ]
}
