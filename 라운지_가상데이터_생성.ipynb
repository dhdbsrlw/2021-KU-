{
  "nbformat": 4,
  "nbformat_minor": 0,
  "metadata": {
    "colab": {
      "name": "라운지_가상데이터 최종.ipynb",
      "provenance": [],
      "collapsed_sections": []
    },
    "kernelspec": {
      "name": "python3",
      "display_name": "Python 3"
    },
    "language_info": {
      "name": "python"
    }
  },
  "cells": [
    {
      "cell_type": "code",
      "metadata": {
        "colab": {
          "base_uri": "https://localhost:8080/"
        },
        "id": "aNk0W6Uz5eM2",
        "outputId": "4878999f-38b8-43d6-8d88-0acbbe25e11e"
      },
      "source": [
        "from google.colab import drive\n",
        "drive.mount('/content/drive/')"
      ],
      "execution_count": null,
      "outputs": [
        {
          "output_type": "stream",
          "text": [
            "Mounted at /content/drive/\n"
          ],
          "name": "stdout"
        }
      ]
    },
    {
      "cell_type": "code",
      "metadata": {
        "id": "RHjdmscErDGq"
      },
      "source": [
        "import io\n",
        "import pandas as pd\n",
        "import numpy as np\n",
        "\n",
        "# 건물-최고층-최저층-면적-층수.xlsx 파일 불러오기\n",
        "data = pd.read_excel('/content/drive/My Drive/데이터톤/전처리/건물-최고층-최저층-면적-층수.xlsx')\n",
        "\n",
        "building = np.array(data.loc[:,'building'])\n",
        "top = np.array(data.loc[:,'top'])\n",
        "bottom = np.array(data.loc[:,'bottom'])\n",
        "area = np.array(data.loc[:,'area'])\n",
        "floor_num = np.array(data.loc[:, 'floor_num'])\n"
      ],
      "execution_count": null,
      "outputs": []
    },
    {
      "cell_type": "code",
      "metadata": {
        "colab": {
          "base_uri": "https://localhost:8080/"
        },
        "id": "BUJXD005gdwa",
        "outputId": "3f5facec-e0d3-4a3d-9885-128ac4cf5570"
      },
      "source": [
        "from pandas import Series, DataFrame\n",
        "import random \n",
        "import numpy as np\n",
        "\n",
        "total_building = building.size\n",
        "\n",
        "# 각 건물별로 랜덤하게 가상 라운지 생성 (가중치 존재)\n",
        "def make_lounge(building, floor_num, area):\n",
        "  lounge = []\n",
        "  building_count =[]\n",
        "  lounge_building = []\n",
        "  sum = np.sum(floor_num*area)\n",
        "  for b in range(building.size):\n",
        "    ratio = (floor_num[b]*area[b]/sum)\n",
        "    '''print(ratio)'''\n",
        "    # 한 건물에 라운지 최소 3개 이상 있다고 가정\n",
        "    rand = random.triangular(0,0.2)*(ratio)*1000 + 3    \n",
        "    round_rand = round(rand)\n",
        "    # 건물 최대 라운지 수 15로 제한 \n",
        "    if round_rand >=15:          \n",
        "      round_rand = 15\n",
        "    building_count.append(round_rand)\n",
        "    for i in range(1,round_rand+1):\n",
        "      lounge.append(building[b]+'-'+str(i))\n",
        "      lounge_building.append(building[b])\n",
        "  return lounge, building_count, np.sum(building_count), lounge_building\n",
        "\n",
        "\n",
        "# 라운지 층수 생성\n",
        "def make_floor(lounge_name, building_lounge_count, top, bottom):\n",
        "  floor = []\n",
        "  for b in range(total_building):\n",
        "    for lounge in range(building_lounge_count[b]):\n",
        "      floor.append(random.randint(bottom[b], top[b]))\n",
        "  return floor\n",
        "\n",
        "# 라운지 책상 높이 생성\n",
        "def make_desk_height(lounge_name):\n",
        "  lounge_desk_height = random.choices([1, 0], [7,3], k=len(lounge_name))\n",
        "  return lounge_desk_height\n",
        "\n",
        "# 라운지 테이블 수 생성\n",
        "def make_num_table_chair(lounge_name):\n",
        "  lounge_num_table = []\n",
        "  lounge_num_chair = []\n",
        "  for l in range(len(lounge_name)):\n",
        "    num_table = random.randint(1, 15)\n",
        "    num_chair = num_table * random.randint(1,5)\n",
        "    lounge_num_table.append(num_table)\n",
        "    lounge_num_chair.append(num_chair)\n",
        "  return lounge_num_table, lounge_num_chair\n",
        "\n",
        "# 라운지 에어컨 유무 생성\n",
        "def make_airconditioner(lounge_name):\n",
        "  lounge_airconditioner = random.choices([1, 0], [7.5, 2.5], k=len(lounge_name))\n",
        "  return lounge_airconditioner\n",
        "\n",
        "# 라운지 총 콘센트 개수 생성\n",
        "def make_num_outlet(lounge_name,lounge_num_table, lounge_num_chair):\n",
        "  lounge_num_outlet = []\n",
        "  for l in range(len(lounge_name)):\n",
        "    outlet = random.randint(0,(lounge_num_chair[l]//lounge_num_table[l])*2)\n",
        "    lounge_num_outlet.append(outlet)\n",
        "  return lounge_num_outlet\n",
        "  \n",
        "# 라운지 창문 유무 생성\n",
        "def make_window(lounge_name):\n",
        "  lounge_window = random.choices([1, 0], [11, 4], k=len(lounge_name))\n",
        "  return lounge_window\n",
        "\n",
        "# 라운지 컴퓨터 수 생성\n",
        "def make_num_computer(lounge_name, lounge_num_table, lounge_num_chair):\n",
        "  lounge_num_computer = []\n",
        "  for l in range(len(lounge_name)):\n",
        "    if random.choices([1, 0], [3, 7], k=1)[0] == 1:\n",
        "      computer = random.randint(0,(lounge_num_chair[l]//lounge_num_table[l])*2)\n",
        "    else:\n",
        "      computer = 0\n",
        "    lounge_num_computer.append(computer)\n",
        "  return lounge_num_computer\n",
        "\n",
        "# 라운지 근처 정수기 유뮤 생성\n",
        "def make_water(lounge_name):\n",
        "  lounge_water = random.choices([1, 0], [4, 6], k=len(lounge_name))\n",
        "  return lounge_water\n",
        "\n",
        "# 라운지 근처 화장실 유무 생성\n",
        "def make_toilet(lounge_name):\n",
        "  lounge_toilet = random.choices([1, 0], [10, 2], k=len(lounge_name))\n",
        "  return lounge_toilet\n",
        "\n",
        "# 혼잡도 - 아직은 None, 다른 소스코드에서 구현\n",
        "def make_congestion(lounge_name):\n",
        "  lounge_congestion = []\n",
        "  for l in range(len(lounge_name)):\n",
        "    lounge_congestion.append(None) \n",
        "  return lounge_congestion\n",
        "\n",
        "\n",
        "# 가상 라운지 정보 생성\n",
        "lounge_name, building_lounge_count, total_lounge, lounge_building = make_lounge(building, floor_num, area)\n",
        "lounge_floor = make_floor(lounge_name, building_lounge_count, top, bottom)\n",
        "lounge_desk_height = make_desk_height(lounge_name)\n",
        "lounge_num_table, lounge_num_chair = make_num_table_chair(lounge_name)\n",
        "lounge_airconditioner = make_airconditioner(lounge_name)\n",
        "lounge_num_outlet = make_num_outlet(lounge_name,lounge_num_table, lounge_num_chair)\n",
        "lounge_window = make_window(lounge_name)\n",
        "lounge_num_computer = make_num_computer(lounge_name, lounge_num_table, lounge_num_chair)\n",
        "lounge_water = make_water(lounge_name)\n",
        "lounge_toilet = make_toilet(lounge_name)\n",
        "lounge_congestion = make_congestion(lounge_name)\n",
        "\n",
        "# 가상 라운지 dataframe 생성\n",
        "col = {'건물': lounge_building,\n",
        "       '라운지': lounge_name,\n",
        "       '위치(층)': lounge_floor, \n",
        "       '책상 높이': lounge_desk_height,\n",
        "       '테이블 수': lounge_num_table,\n",
        "       '의자 수': lounge_num_chair,\n",
        "       '냉난방장치': lounge_airconditioner,\n",
        "       '콘센트 수': lounge_num_outlet,\n",
        "       '창문': lounge_window,\n",
        "       '컴퓨터': lounge_num_computer,\n",
        "       '정수기': lounge_water,\n",
        "       '화장실': lounge_toilet,\n",
        "       '혼잡도': lounge_congestion}\n",
        "\n",
        "\n",
        "lounge_data = pd.DataFrame(col)\n",
        "lounge_data.insert(loc=0, column='lounge_index', value=lounge_data.index)\n"
      ],
      "execution_count": null,
      "outputs": [
        {
          "output_type": "stream",
          "text": [
            "     lounge_index        건물         라운지  위치(층)  책상 높이  ...  창문  컴퓨터  정수기  화장실   혼잡도\n",
            "0               0   4.18기념관   4.18기념관-1     -2      1  ...   1    6    0    1  None\n",
            "1               1   4.18기념관   4.18기념관-2     -1      1  ...   1    0    1    1  None\n",
            "2               2   4.18기념관   4.18기념관-3      0      1  ...   0    0    0    0  None\n",
            "3               3   4.18기념관   4.18기념관-4     -2      1  ...   0    0    0    1  None\n",
            "4               4     CJ법학관     CJ법학관-1      0      1  ...   1    0    1    1  None\n",
            "..            ...       ...         ...    ...    ...  ...  ..  ...  ...  ...   ...\n",
            "234           234  현대자동차경영관  현대자동차경영관-6     -1      1  ...   1    4    1    0  None\n",
            "235           235  현대자동차경영관  현대자동차경영관-7      5      1  ...   1    0    1    1  None\n",
            "236           236     환경실험관     환경실험관-1      2      1  ...   1    0    0    1  None\n",
            "237           237     환경실험관     환경실험관-2      3      1  ...   1    0    0    1  None\n",
            "238           238     환경실험관     환경실험관-3      3      1  ...   0    7    0    1  None\n",
            "\n",
            "[239 rows x 14 columns]\n"
          ],
          "name": "stdout"
        }
      ]
    },
    {
      "cell_type": "code",
      "metadata": {
        "id": "NuKbmUhWelJU",
        "colab": {
          "base_uri": "https://localhost:8080/",
          "height": 17
        },
        "outputId": "11048ac1-c319-4aca-f353-43047347697f"
      },
      "source": [
        "from google.colab import files\n",
        "\n",
        "# 가상 라운지 저장\n",
        "lounge_data.to_csv('라운지 데이터 샘플 최종.csv', index=False, encoding='euc-kr')\n",
        "files.download('라운지 데이터 샘플 최종.csv')"
      ],
      "execution_count": null,
      "outputs": [
        {
          "output_type": "display_data",
          "data": {
            "application/javascript": [
              "\n",
              "    async function download(id, filename, size) {\n",
              "      if (!google.colab.kernel.accessAllowed) {\n",
              "        return;\n",
              "      }\n",
              "      const div = document.createElement('div');\n",
              "      const label = document.createElement('label');\n",
              "      label.textContent = `Downloading \"${filename}\": `;\n",
              "      div.appendChild(label);\n",
              "      const progress = document.createElement('progress');\n",
              "      progress.max = size;\n",
              "      div.appendChild(progress);\n",
              "      document.body.appendChild(div);\n",
              "\n",
              "      const buffers = [];\n",
              "      let downloaded = 0;\n",
              "\n",
              "      const channel = await google.colab.kernel.comms.open(id);\n",
              "      // Send a message to notify the kernel that we're ready.\n",
              "      channel.send({})\n",
              "\n",
              "      for await (const message of channel.messages) {\n",
              "        // Send a message to notify the kernel that we're ready.\n",
              "        channel.send({})\n",
              "        if (message.buffers) {\n",
              "          for (const buffer of message.buffers) {\n",
              "            buffers.push(buffer);\n",
              "            downloaded += buffer.byteLength;\n",
              "            progress.value = downloaded;\n",
              "          }\n",
              "        }\n",
              "      }\n",
              "      const blob = new Blob(buffers, {type: 'application/binary'});\n",
              "      const a = document.createElement('a');\n",
              "      a.href = window.URL.createObjectURL(blob);\n",
              "      a.download = filename;\n",
              "      div.appendChild(a);\n",
              "      a.click();\n",
              "      div.remove();\n",
              "    }\n",
              "  "
            ],
            "text/plain": [
              "<IPython.core.display.Javascript object>"
            ]
          },
          "metadata": {
            "tags": []
          }
        },
        {
          "output_type": "display_data",
          "data": {
            "application/javascript": [
              "download(\"download_d8dddfb7-cbab-4aa2-b6d1-08109eff7a9c\", \"\\ub77c\\uc6b4\\uc9c0 \\ub370\\uc774\\ud130 \\uc0d8\\ud50c \\ucd5c\\uc885.csv\", 12626)"
            ],
            "text/plain": [
              "<IPython.core.display.Javascript object>"
            ]
          },
          "metadata": {
            "tags": []
          }
        }
      ]
    }
  ]
}