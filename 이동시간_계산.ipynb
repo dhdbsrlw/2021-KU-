{
  "nbformat": 4,
  "nbformat_minor": 0,
  "metadata": {
    "colab": {
      "name": "이동시간_계산.ipynb",
      "provenance": [],
      "collapsed_sections": []
    },
    "kernelspec": {
      "name": "python3",
      "display_name": "Python 3"
    },
    "language_info": {
      "name": "python"
    }
  },
  "cells": [
    {
      "cell_type": "code",
      "metadata": {
        "colab": {
          "base_uri": "https://localhost:8080/"
        },
        "id": "bahityfEYdc3",
        "outputId": "9a77195d-8766-40ef-994c-80ef9b2608bd"
      },
      "source": [
        "from google.colab import drive\n",
        "drive.mount('/content/drive/')"
      ],
      "execution_count": null,
      "outputs": [
        {
          "output_type": "stream",
          "text": [
            "Mounted at /content/drive/\n"
          ],
          "name": "stdout"
        }
      ]
    },
    {
      "cell_type": "code",
      "metadata": {
        "colab": {
          "base_uri": "https://localhost:8080/"
        },
        "id": "BBIgzHQgYgw0",
        "outputId": "7c000965-e9f8-4a73-f573-c9e985e91467"
      },
      "source": [
        "!pip install haversine"
      ],
      "execution_count": null,
      "outputs": [
        {
          "output_type": "stream",
          "text": [
            "Collecting haversine\n",
            "  Downloading haversine-2.3.1-py2.py3-none-any.whl (5.5 kB)\n",
            "Installing collected packages: haversine\n",
            "Successfully installed haversine-2.3.1\n"
          ],
          "name": "stdout"
        }
      ]
    },
    {
      "cell_type": "code",
      "metadata": {
        "id": "1bKQ84zuY9F7"
      },
      "source": [
        "import requests\n",
        "import json\n",
        "import pandas\n",
        "from haversine import haversine\n",
        "import numpy as np"
      ],
      "execution_count": null,
      "outputs": []
    },
    {
      "cell_type": "code",
      "metadata": {
        "id": "Ga0NqWarYqU_"
      },
      "source": [
        "#직선거리 가까운 10개만\n",
        "def distance_top10():\n",
        "    building_lon_lat = pandas.read_excel('/content/drive/MyDrive/데이터톤/data/data/교내 랜드마크 위도 경도.xlsx')\n",
        "\n",
        "    current_lon = 127.02727228835887\n",
        "    current_lat = 37.58155881472965\n",
        "\n",
        "    ls = []\n",
        "    df_final = pandas.DataFrame(columns=['building', 'distance'])\n",
        "\n",
        "    for idx,row in building_lon_lat.iterrows():\n",
        "        start = (float(current_lat), float(current_lon))\n",
        "        goal = (float(row['lon,lat'].split(',')[1]),float(row['lon,lat'].split(',')[0]))\n",
        "        ls.append((row['building'],haversine(start,goal),row['lon,lat']))\n",
        "        ls = sorted(ls, key = lambda x: x[1], reverse = False)[:10]\n",
        "\n",
        "    for row in ls:\n",
        "        request_str = 'http://router.project-osrm.org/route/v1/foot/'+str(current_lat)+','+str(current_lat)+';'+row[2]+'?overview=false'\n",
        "        \n",
        "        r = requests.get(request_str)\n",
        "        routes = json.loads(r.content)\n",
        "        distance = routes.get(\"routes\")[0]['distance']\n",
        "        df_final.loc[len(df_final)] = [row[0],distance]\n",
        "\n",
        "    df_final.sort_values('distance', inplace=True)\n",
        "    return df_final"
      ],
      "execution_count": null,
      "outputs": []
    },
    {
      "cell_type": "code",
      "metadata": {
        "id": "vQzYUld6YxpD"
      },
      "source": [
        "# 직선거리 400미터 이하만 \n",
        "def distance_under400():\n",
        "    building_lon_lat = pandas.read_excel('/content/drive/MyDrive/데이터톤/data/data/교내 랜드마크 위도 경도.xlsx')\n",
        "\n",
        "    current_lon = 127.02727228835887\n",
        "    current_lat = 37.58155881472965\n",
        "\n",
        "    df_final = pandas.DataFrame(columns=['building', 'distance'])\n",
        "\n",
        "    for idx, row in building_lon_lat.iterrows():\n",
        "        start = (float(current_lat), float(current_lon))\n",
        "        goal = (float(row['lon,lat'].split(',')[1]),float(row['lon,lat'].split(',')[0]))\n",
        "\n",
        "        if haversine(start, goal) < 0.4:\n",
        "            request_str = 'http://router.project-osrm.org/route/v1/foot/'+str(current_lat)+','+str(current_lat)+';'+row['lon,lat']+'?overview=false'\n",
        "            \n",
        "            r = requests.get(request_str)\n",
        "            routes = json.loads(r.content)\n",
        "            distance = routes.get(\"routes\")[0]['distance']\n",
        "            df_final.loc[len(df_final)] = [row['building'],distance]\n",
        "\n",
        "    df_final.sort_values('distance', inplace=True)\n",
        "    return df_final"
      ],
      "execution_count": null,
      "outputs": []
    },
    {
      "cell_type": "code",
      "metadata": {
        "colab": {
          "base_uri": "https://localhost:8080/"
        },
        "id": "HWePWRqyYw7w",
        "outputId": "9b6dadc3-4d6c-416a-f4f2-4bf9eb5e9306"
      },
      "source": [
        "building_lon_lat = pandas.read_excel('/content/drive/MyDrive/데이터톤/data/data/교내 랜드마크 위도 경도.xlsx')\n",
        "\n",
        "request_str='http://router.project-osrm.org/table/v1/foot/'\n",
        "\n",
        "for idx, row in building_lon_lat.iterrows():\n",
        "    request_str+=(row['lon,lat']+';')\n",
        "\n",
        "r = requests.get(request_str[:-1])\n",
        "table = json.loads(r.content)\n",
        "table_1 = table['durations']\n",
        "table_2 = np.array(table_1).reshape(-1,98)\n",
        "\n",
        "table_2"
      ],
      "execution_count": null,
      "outputs": [
        {
          "output_type": "execute_result",
          "data": {
            "text/plain": [
              "array([[  0. ,  38. ,  97.2, ..., 155.4, 154.1, 155.4],\n",
              "       [ 38. ,   0. ,  79.1, ..., 123.4, 122.1, 123.4],\n",
              "       [ 92.7,  72.7,   0. , ..., 128.9, 127.6, 128.9],\n",
              "       ...,\n",
              "       [146.7, 119.3, 131.3, ...,   0. ,  74.7,   0. ],\n",
              "       [146. , 118.6, 130.6, ...,  75.7,   0. ,  75.7],\n",
              "       [146.7, 119.3, 131.3, ...,   0. ,  74.7,   0. ]])"
            ]
          },
          "metadata": {
            "tags": []
          },
          "execution_count": 8
        }
      ]
    },
    {
      "cell_type": "code",
      "metadata": {
        "id": "3MEqwZObZq3t"
      },
      "source": [
        "lst = building_lon_lat['building']"
      ],
      "execution_count": null,
      "outputs": []
    },
    {
      "cell_type": "code",
      "metadata": {
        "id": "hWTHeYTtest-",
        "colab": {
          "base_uri": "https://localhost:8080/",
          "height": 17
        },
        "outputId": "1008b53b-f8c7-49ad-db6e-e9e7259e3cca"
      },
      "source": [
        "from google.colab import files\n",
        "df_array = pandas.DataFrame(table_2, columns=lst) \n",
        "\n",
        "df_array.to_csv('건물별 이동시간 추가.csv', index = None,encoding='euc-kr') \n",
        "files.download('건물별 이동시간 추가.csv')"
      ],
      "execution_count": null,
      "outputs": [
        {
          "output_type": "display_data",
          "data": {
            "application/javascript": [
              "\n",
              "    async function download(id, filename, size) {\n",
              "      if (!google.colab.kernel.accessAllowed) {\n",
              "        return;\n",
              "      }\n",
              "      const div = document.createElement('div');\n",
              "      const label = document.createElement('label');\n",
              "      label.textContent = `Downloading \"${filename}\": `;\n",
              "      div.appendChild(label);\n",
              "      const progress = document.createElement('progress');\n",
              "      progress.max = size;\n",
              "      div.appendChild(progress);\n",
              "      document.body.appendChild(div);\n",
              "\n",
              "      const buffers = [];\n",
              "      let downloaded = 0;\n",
              "\n",
              "      const channel = await google.colab.kernel.comms.open(id);\n",
              "      // Send a message to notify the kernel that we're ready.\n",
              "      channel.send({})\n",
              "\n",
              "      for await (const message of channel.messages) {\n",
              "        // Send a message to notify the kernel that we're ready.\n",
              "        channel.send({})\n",
              "        if (message.buffers) {\n",
              "          for (const buffer of message.buffers) {\n",
              "            buffers.push(buffer);\n",
              "            downloaded += buffer.byteLength;\n",
              "            progress.value = downloaded;\n",
              "          }\n",
              "        }\n",
              "      }\n",
              "      const blob = new Blob(buffers, {type: 'application/binary'});\n",
              "      const a = document.createElement('a');\n",
              "      a.href = window.URL.createObjectURL(blob);\n",
              "      a.download = filename;\n",
              "      div.appendChild(a);\n",
              "      a.click();\n",
              "      div.remove();\n",
              "    }\n",
              "  "
            ],
            "text/plain": [
              "<IPython.core.display.Javascript object>"
            ]
          },
          "metadata": {
            "tags": []
          }
        },
        {
          "output_type": "display_data",
          "data": {
            "application/javascript": [
              "download(\"download_87ece28f-0f1b-42ce-893d-e4678349f79e\", \"\\uac74\\ubb3c\\ubcc4 \\uc774\\ub3d9\\uc2dc\\uac04 \\ucd94\\uac00.csv\", 57014)"
            ],
            "text/plain": [
              "<IPython.core.display.Javascript object>"
            ]
          },
          "metadata": {
            "tags": []
          }
        }
      ]
    },
    {
      "cell_type": "code",
      "metadata": {
        "id": "RyqwtVwPexH5"
      },
      "source": [
        ""
      ],
      "execution_count": null,
      "outputs": []
    }
  ]
}