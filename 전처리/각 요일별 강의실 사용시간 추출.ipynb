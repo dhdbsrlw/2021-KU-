{
  "nbformat": 4,
  "nbformat_minor": 0,
  "metadata": {
    "colab": {
      "name": "각 요일 별 강의실 사용 시간 정리.ipynb",
      "provenance": [],
      "collapsed_sections": []
    },
    "kernelspec": {
      "name": "python3",
      "display_name": "Python 3"
    },
    "language_info": {
      "name": "python"
    }
  },
  "cells": [
    {
      "cell_type": "code",
      "metadata": {
        "colab": {
          "base_uri": "https://localhost:8080/"
        },
        "id": "w8cXnAJtToGd",
        "outputId": "7749731e-76ad-4f23-ae27-94ab7ee5b334"
      },
      "source": [
        "from google.colab import drive\n",
        "drive.mount('/content/drive/')"
      ],
      "execution_count": null,
      "outputs": [
        {
          "output_type": "stream",
          "text": [
            "Drive already mounted at /content/drive/; to attempt to forcibly remount, call drive.mount(\"/content/drive/\", force_remount=True).\n"
          ],
          "name": "stdout"
        }
      ]
    },
    {
      "cell_type": "code",
      "metadata": {
        "id": "kbZMS9ZlVoMO"
      },
      "source": [
        "import pandas\n",
        "import numpy"
      ],
      "execution_count": null,
      "outputs": []
    },
    {
      "cell_type": "code",
      "metadata": {
        "id": "3NQpmoO3VfNW"
      },
      "source": [
        "raw_data = pandas.read_csv('/content/drive/My Drive/데이터톤/data/학부개설과목_2019_1R.txt', delimiter='|', error_bad_lines=False)"
      ],
      "execution_count": null,
      "outputs": []
    },
    {
      "cell_type": "code",
      "metadata": {
        "id": "5W6vT2emXZlN"
      },
      "source": [
        "#강의시간/강의실 칼럼 리스트\n",
        "\n",
        "list_data = []\n",
        "check_data = [\"월(\", \"화(\", \"수(\", \"목(\", \"금(\", \"토(\"]\n",
        "firstCol = False\n",
        "for idx,row in raw_data.iterrows():\n",
        "    if firstCol:\n",
        "        list_data.append(row['년도'])\n",
        "    else:   \n",
        "        if not pandas.isna(row['강의시간/강의실']) and (\"관\" in row['강의시간/강의실'] or \"L-P\" in row['강의시간/강의실']) and any(x in row['강의시간/강의실'] for x in check_data):\n",
        "            list_data.append(row['강의시간/강의실'])\n",
        "    if list_data[-1].endswith(\"<br>\"):\n",
        "        firstCol=True\n",
        "        list_data[-1]=list_data[-1][:-4]\n",
        "    else:\n",
        "        firstCol=False\n",
        "\n",
        "#요일(교시)/강의실/호수 사이사이 스페이스바 삽입\n",
        "\n",
        "for index, data in enumerate(list_data):\n",
        "    if (\"관 \" not in data or \"관) \" not in data) and \"하나스퀘어\" not in data and \"L-P\" not in data:\n",
        "        if \"관)\" in data:\n",
        "            inx = data.rindex(\"관)\")\n",
        "            str = data[:inx+2]\n",
        "            str+=(\" \"+data[inx+2:])\n",
        "            list_data[index]=str\n",
        "        else:    \n",
        "            inx = data.rindex(\"관\")\n",
        "            str = data[:inx+1]\n",
        "            str+=(\" \"+data[inx+1:])\n",
        "            list_data[index]=str\n",
        "\n",
        "    if \"지하 \" in data:\n",
        "        str=list_data[index]\n",
        "        list_data[index]=list_data[index].replace(\"지하 \",\"B\")"
      ],
      "execution_count": null,
      "outputs": []
    },
    {
      "cell_type": "code",
      "metadata": {
        "id": "BIjvu7xjrK1s"
      },
      "source": [
        "#final dataframe 생성\n",
        "\n",
        "times = [\"NaN\", \"9:00\", \"10:30\", \"12:00\", \"13:00\", \"14:00\", \"15:30\", \"17:00\", \"18:30\", \"20:00\", \"21:30\"]\n",
        "\n",
        "df_final = pandas.DataFrame(columns=['day', 'building', 'room', 'start', 'end'])\n",
        "\n",
        "for index,data in enumerate(list_data):\n",
        "    inx_first_space = data.index(\" \")\n",
        "    inx_second_space = data.find(\" \", data.find(\" \") + 1)\n",
        "    day_time = data[:inx_first_space]\n",
        "    #day를 day/start/end로 나눔\n",
        "    inx_fp=day_time.index(\"(\")\n",
        "    inx_sp = day_time.index(\")\")\n",
        "    day = day_time[:inx_fp]\n",
        "    start=\"\"\n",
        "    end=\"\"\n",
        "    if inx_fp + 2 == inx_sp : \n",
        "        start=times[int(day_time[2])]\n",
        "        end=times[int(day_time[2])+1]\n",
        "    else :\n",
        "        start=times[int(day_time[2])]\n",
        "        end=times[int(day_time[4])+1]\n",
        "    building = data[inx_first_space+1:inx_second_space]\n",
        "    room = data[inx_second_space+1:]\n",
        "    if \"호\" in room: room=room.replace(\"호\", \"\")\n",
        "    df_final.loc[len(df_final)] = [day.strip(), building.strip(), room.strip(), start.strip(), end.strip()]\n"
      ],
      "execution_count": null,
      "outputs": []
    },
    {
      "cell_type": "code",
      "metadata": {
        "colab": {
          "base_uri": "https://localhost:8080/",
          "height": 417
        },
        "id": "PvCDMLiW5b4C",
        "outputId": "650aa6e0-de0e-496c-e18c-d16b3c094d74"
      },
      "source": [
        "df_final"
      ],
      "execution_count": null,
      "outputs": [
        {
          "output_type": "execute_result",
          "data": {
            "text/html": [
              "<div>\n",
              "<style scoped>\n",
              "    .dataframe tbody tr th:only-of-type {\n",
              "        vertical-align: middle;\n",
              "    }\n",
              "\n",
              "    .dataframe tbody tr th {\n",
              "        vertical-align: top;\n",
              "    }\n",
              "\n",
              "    .dataframe thead th {\n",
              "        text-align: right;\n",
              "    }\n",
              "</style>\n",
              "<table border=\"1\" class=\"dataframe\">\n",
              "  <thead>\n",
              "    <tr style=\"text-align: right;\">\n",
              "      <th></th>\n",
              "      <th>day</th>\n",
              "      <th>building</th>\n",
              "      <th>room</th>\n",
              "      <th>start</th>\n",
              "      <th>end</th>\n",
              "    </tr>\n",
              "  </thead>\n",
              "  <tbody>\n",
              "    <tr>\n",
              "      <th>0</th>\n",
              "      <td>월</td>\n",
              "      <td>창의관</td>\n",
              "      <td>B113</td>\n",
              "      <td>14:00</td>\n",
              "      <td>15:30</td>\n",
              "    </tr>\n",
              "    <tr>\n",
              "      <th>1</th>\n",
              "      <td>수</td>\n",
              "      <td>창의관</td>\n",
              "      <td>B113</td>\n",
              "      <td>14:00</td>\n",
              "      <td>15:30</td>\n",
              "    </tr>\n",
              "    <tr>\n",
              "      <th>2</th>\n",
              "      <td>월</td>\n",
              "      <td>창의관</td>\n",
              "      <td>207</td>\n",
              "      <td>15:30</td>\n",
              "      <td>20:00</td>\n",
              "    </tr>\n",
              "    <tr>\n",
              "      <th>3</th>\n",
              "      <td>화</td>\n",
              "      <td>신공학관</td>\n",
              "      <td>B104</td>\n",
              "      <td>9:00</td>\n",
              "      <td>10:30</td>\n",
              "    </tr>\n",
              "    <tr>\n",
              "      <th>4</th>\n",
              "      <td>목</td>\n",
              "      <td>신공학관</td>\n",
              "      <td>B104</td>\n",
              "      <td>9:00</td>\n",
              "      <td>10:30</td>\n",
              "    </tr>\n",
              "    <tr>\n",
              "      <th>...</th>\n",
              "      <td>...</td>\n",
              "      <td>...</td>\n",
              "      <td>...</td>\n",
              "      <td>...</td>\n",
              "      <td>...</td>\n",
              "    </tr>\n",
              "    <tr>\n",
              "      <th>4816</th>\n",
              "      <td>목</td>\n",
              "      <td>정경관</td>\n",
              "      <td>501</td>\n",
              "      <td>14:00</td>\n",
              "      <td>15:30</td>\n",
              "    </tr>\n",
              "    <tr>\n",
              "      <th>4817</th>\n",
              "      <td>월</td>\n",
              "      <td>정경관</td>\n",
              "      <td>201</td>\n",
              "      <td>10:30</td>\n",
              "      <td>12:00</td>\n",
              "    </tr>\n",
              "    <tr>\n",
              "      <th>4818</th>\n",
              "      <td>수</td>\n",
              "      <td>정경관</td>\n",
              "      <td>201</td>\n",
              "      <td>10:30</td>\n",
              "      <td>12:00</td>\n",
              "    </tr>\n",
              "    <tr>\n",
              "      <th>4819</th>\n",
              "      <td>월</td>\n",
              "      <td>정경관</td>\n",
              "      <td>507</td>\n",
              "      <td>12:00</td>\n",
              "      <td>14:00</td>\n",
              "    </tr>\n",
              "    <tr>\n",
              "      <th>4820</th>\n",
              "      <td>수</td>\n",
              "      <td>정경관</td>\n",
              "      <td>507</td>\n",
              "      <td>12:00</td>\n",
              "      <td>14:00</td>\n",
              "    </tr>\n",
              "  </tbody>\n",
              "</table>\n",
              "<p>4821 rows × 5 columns</p>\n",
              "</div>"
            ],
            "text/plain": [
              "     day building  room  start    end\n",
              "0      월      창의관  B113  14:00  15:30\n",
              "1      수      창의관  B113  14:00  15:30\n",
              "2      월      창의관   207  15:30  20:00\n",
              "3      화     신공학관  B104   9:00  10:30\n",
              "4      목     신공학관  B104   9:00  10:30\n",
              "...   ..      ...   ...    ...    ...\n",
              "4816   목      정경관   501  14:00  15:30\n",
              "4817   월      정경관   201  10:30  12:00\n",
              "4818   수      정경관   201  10:30  12:00\n",
              "4819   월      정경관   507  12:00  14:00\n",
              "4820   수      정경관   507  12:00  14:00\n",
              "\n",
              "[4821 rows x 5 columns]"
            ]
          },
          "metadata": {
            "tags": []
          },
          "execution_count": 34
        }
      ]
    },
    {
      "cell_type": "code",
      "metadata": {
        "colab": {
          "base_uri": "https://localhost:8080/",
          "height": 17
        },
        "id": "QX5fXqnZ7WSG",
        "outputId": "a3969ec2-0ce0-4132-8395-ce21beee2d1f"
      },
      "source": [
        "from google.colab import files\n",
        "df_final.to_csv('학부 강의목록 전처리.txt', index = None, sep ='\\t') \n",
        "files.download('학부 강의목록 전처리.txt')"
      ],
      "execution_count": null,
      "outputs": [
        {
          "output_type": "display_data",
          "data": {
            "application/javascript": [
              "\n",
              "    async function download(id, filename, size) {\n",
              "      if (!google.colab.kernel.accessAllowed) {\n",
              "        return;\n",
              "      }\n",
              "      const div = document.createElement('div');\n",
              "      const label = document.createElement('label');\n",
              "      label.textContent = `Downloading \"${filename}\": `;\n",
              "      div.appendChild(label);\n",
              "      const progress = document.createElement('progress');\n",
              "      progress.max = size;\n",
              "      div.appendChild(progress);\n",
              "      document.body.appendChild(div);\n",
              "\n",
              "      const buffers = [];\n",
              "      let downloaded = 0;\n",
              "\n",
              "      const channel = await google.colab.kernel.comms.open(id);\n",
              "      // Send a message to notify the kernel that we're ready.\n",
              "      channel.send({})\n",
              "\n",
              "      for await (const message of channel.messages) {\n",
              "        // Send a message to notify the kernel that we're ready.\n",
              "        channel.send({})\n",
              "        if (message.buffers) {\n",
              "          for (const buffer of message.buffers) {\n",
              "            buffers.push(buffer);\n",
              "            downloaded += buffer.byteLength;\n",
              "            progress.value = downloaded;\n",
              "          }\n",
              "        }\n",
              "      }\n",
              "      const blob = new Blob(buffers, {type: 'application/binary'});\n",
              "      const a = document.createElement('a');\n",
              "      a.href = window.URL.createObjectURL(blob);\n",
              "      a.download = filename;\n",
              "      div.appendChild(a);\n",
              "      a.click();\n",
              "      div.remove();\n",
              "    }\n",
              "  "
            ],
            "text/plain": [
              "<IPython.core.display.Javascript object>"
            ]
          },
          "metadata": {
            "tags": []
          }
        },
        {
          "output_type": "display_data",
          "data": {
            "application/javascript": [
              "download(\"download_ccc0fba1-65d6-4728-bbad-7ac65cf82dd2\", \"\\ud559\\ubd80 \\uac15\\uc758\\ubaa9\\ub85d \\uc804\\ucc98\\ub9ac.txt\", 153390)"
            ],
            "text/plain": [
              "<IPython.core.display.Javascript object>"
            ]
          },
          "metadata": {
            "tags": []
          }
        }
      ]
    },
    {
      "cell_type": "code",
      "metadata": {
        "colab": {
          "base_uri": "https://localhost:8080/",
          "height": 17
        },
        "id": "dFdjaNa9C4sz",
        "outputId": "398c9537-0329-418b-a5ce-883b10a82537"
      },
      "source": [
        "from google.colab import files\n",
        "df_final.to_csv('학부 강의목록 전처리2.txt', index = None, sep ='/') \n",
        "files.download('학부 강의목록 전처리2.txt')"
      ],
      "execution_count": null,
      "outputs": [
        {
          "output_type": "display_data",
          "data": {
            "application/javascript": [
              "\n",
              "    async function download(id, filename, size) {\n",
              "      if (!google.colab.kernel.accessAllowed) {\n",
              "        return;\n",
              "      }\n",
              "      const div = document.createElement('div');\n",
              "      const label = document.createElement('label');\n",
              "      label.textContent = `Downloading \"${filename}\": `;\n",
              "      div.appendChild(label);\n",
              "      const progress = document.createElement('progress');\n",
              "      progress.max = size;\n",
              "      div.appendChild(progress);\n",
              "      document.body.appendChild(div);\n",
              "\n",
              "      const buffers = [];\n",
              "      let downloaded = 0;\n",
              "\n",
              "      const channel = await google.colab.kernel.comms.open(id);\n",
              "      // Send a message to notify the kernel that we're ready.\n",
              "      channel.send({})\n",
              "\n",
              "      for await (const message of channel.messages) {\n",
              "        // Send a message to notify the kernel that we're ready.\n",
              "        channel.send({})\n",
              "        if (message.buffers) {\n",
              "          for (const buffer of message.buffers) {\n",
              "            buffers.push(buffer);\n",
              "            downloaded += buffer.byteLength;\n",
              "            progress.value = downloaded;\n",
              "          }\n",
              "        }\n",
              "      }\n",
              "      const blob = new Blob(buffers, {type: 'application/binary'});\n",
              "      const a = document.createElement('a');\n",
              "      a.href = window.URL.createObjectURL(blob);\n",
              "      a.download = filename;\n",
              "      div.appendChild(a);\n",
              "      a.click();\n",
              "      div.remove();\n",
              "    }\n",
              "  "
            ],
            "text/plain": [
              "<IPython.core.display.Javascript object>"
            ]
          },
          "metadata": {
            "tags": []
          }
        },
        {
          "output_type": "display_data",
          "data": {
            "application/javascript": [
              "download(\"download_e4a6deb3-de80-451e-9640-329e7faef320\", \"\\ud559\\ubd80 \\uac15\\uc758\\ubaa9\\ub85d \\uc804\\ucc98\\ub9ac2.txt\", 153390)"
            ],
            "text/plain": [
              "<IPython.core.display.Javascript object>"
            ]
          },
          "metadata": {
            "tags": []
          }
        }
      ]
    },
    {
      "cell_type": "code",
      "metadata": {
        "colab": {
          "base_uri": "https://localhost:8080/",
          "height": 17
        },
        "id": "K8yG4BxQOzUD",
        "outputId": "76cc2088-72f7-434f-d1a2-9e9c81cc2788"
      },
      "source": [
        "from google.colab import files\n",
        "df_final.to_csv('학부 강의목록 전처리.csv', index = None,encoding='utf-8-sig') \n",
        "files.download('학부 강의목록 전처리.csv')"
      ],
      "execution_count": null,
      "outputs": [
        {
          "output_type": "display_data",
          "data": {
            "application/javascript": [
              "\n",
              "    async function download(id, filename, size) {\n",
              "      if (!google.colab.kernel.accessAllowed) {\n",
              "        return;\n",
              "      }\n",
              "      const div = document.createElement('div');\n",
              "      const label = document.createElement('label');\n",
              "      label.textContent = `Downloading \"${filename}\": `;\n",
              "      div.appendChild(label);\n",
              "      const progress = document.createElement('progress');\n",
              "      progress.max = size;\n",
              "      div.appendChild(progress);\n",
              "      document.body.appendChild(div);\n",
              "\n",
              "      const buffers = [];\n",
              "      let downloaded = 0;\n",
              "\n",
              "      const channel = await google.colab.kernel.comms.open(id);\n",
              "      // Send a message to notify the kernel that we're ready.\n",
              "      channel.send({})\n",
              "\n",
              "      for await (const message of channel.messages) {\n",
              "        // Send a message to notify the kernel that we're ready.\n",
              "        channel.send({})\n",
              "        if (message.buffers) {\n",
              "          for (const buffer of message.buffers) {\n",
              "            buffers.push(buffer);\n",
              "            downloaded += buffer.byteLength;\n",
              "            progress.value = downloaded;\n",
              "          }\n",
              "        }\n",
              "      }\n",
              "      const blob = new Blob(buffers, {type: 'application/binary'});\n",
              "      const a = document.createElement('a');\n",
              "      a.href = window.URL.createObjectURL(blob);\n",
              "      a.download = filename;\n",
              "      div.appendChild(a);\n",
              "      a.click();\n",
              "      div.remove();\n",
              "    }\n",
              "  "
            ],
            "text/plain": [
              "<IPython.core.display.Javascript object>"
            ]
          },
          "metadata": {
            "tags": []
          }
        },
        {
          "output_type": "display_data",
          "data": {
            "application/javascript": [
              "download(\"download_866ef819-ff8c-49de-b884-860b0dc133d9\", \"\\ud559\\ubd80 \\uac15\\uc758\\ubaa9\\ub85d \\uc804\\ucc98\\ub9ac.csv\", 153393)"
            ],
            "text/plain": [
              "<IPython.core.display.Javascript object>"
            ]
          },
          "metadata": {
            "tags": []
          }
        }
      ]
    }
  ]
}
