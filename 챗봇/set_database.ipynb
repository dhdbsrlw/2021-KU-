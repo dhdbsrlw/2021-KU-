{
  "nbformat": 4,
  "nbformat_minor": 0,
  "metadata": {
    "colab": {
      "name": "set_database.ipynb",
      "provenance": [],
      "collapsed_sections": []
    },
    "kernelspec": {
      "name": "python3",
      "display_name": "Python 3"
    },
    "language_info": {
      "name": "python"
    }
  },
  "cells": [
    {
      "cell_type": "code",
      "metadata": {
        "id": "puGwb0N5f06d"
      },
      "source": [
        "import sqlite3\n",
        "import pandas as pd"
      ],
      "execution_count": null,
      "outputs": []
    },
    {
      "cell_type": "code",
      "metadata": {
        "id": "BDSdeUv0f7UA"
      },
      "source": [
        "# 데이터베이스 생성 및 연결\n",
        "conn = sqlite3.connect(\"gmc.db\")\n",
        "cur = conn.cursor()\n",
        "\n",
        "# 테이블 생성\n",
        "conn.execute('CREATE TABLE classroom(building TEXT NOT NULL, name TEXT NOT NULL, capacity INTEGER NOT NULL, PRIMARY KEY(building, name))')\n",
        "\n",
        "conn.execute('CREATE TABLE classroom_reservation(session_id TEXT, building TEXT, name TEXT, member_num INTEGER, starttime TEXT, endtime TEXT, FOREIGN KEY(building, name) REFERENCES classroom(building, name))')\n",
        "conn.execute('''\n",
        "  CREATE TABLE recommendation_history(\n",
        "    session_id TEXT,\n",
        "    member_num INTEGER,\n",
        "    building0 TEXT, name0 TEXT,\n",
        "    building1 TEXT, name1 TEXT,\n",
        "    building2 TEXT, name2 TEXT,\n",
        "    building3 TEXT, name3 TEXT,\n",
        "    building4 TEXT, name4 TEXT,\n",
        "    building5 TEXT, name5 TEXT,\n",
        "    building6 TEXT, name6 TEXT,\n",
        "    building7 TEXT, name7 TEXT,\n",
        "    building8 TEXT, name8 TEXT,\n",
        "    FOREIGN KEY(building0, name0) REFERENCES classroom(building, name),\n",
        "    FOREIGN KEY(building1, name1) REFERENCES classroom(building, name),\n",
        "    FOREIGN KEY(building2, name2) REFERENCES classroom(building, name),\n",
        "    FOREIGN KEY(building3, name3) REFERENCES classroom(building, name),\n",
        "    FOREIGN KEY(building4, name4) REFERENCES classroom(building, name),\n",
        "    FOREIGN KEY(building5, name5) REFERENCES classroom(building, name),\n",
        "    FOREIGN KEY(building6, name6) REFERENCES classroom(building, name),\n",
        "    FOREIGN KEY(building7, name7) REFERENCES classroom(building, name),\n",
        "    FOREIGN KEY(building8, name8) REFERENCES classroom(building, name))\n",
        "''')\n",
        "\n",
        "# 커밋 및 종료\n",
        "conn.commit()\n",
        "conn.close()"
      ],
      "execution_count": null,
      "outputs": []
    },
    {
      "cell_type": "code",
      "metadata": {
        "id": "XXPUT_ytf9j2"
      },
      "source": [
        "# 강의실 인스턴스 저장\n",
        "instances = []\n",
        "for index, row in vir_classrooms.iterrows():\n",
        "  instances.append((row['building'], row['room'], row['max']))\n",
        "print('len:', len(instances))"
      ],
      "execution_count": null,
      "outputs": []
    },
    {
      "cell_type": "code",
      "metadata": {
        "id": "dT4cuoq-gAon"
      },
      "source": [
        "# DB에 강의실 추가\n",
        "conn = sqlite3.connect(\"gmc.db\")\n",
        "cur = conn.cursor()\n",
        "\n",
        "cur.executemany('INSERT INTO classroom VALUES (?, ?, ?)', instances)\n",
        "\n",
        "conn.commit()\n",
        "conn.close()"
      ],
      "execution_count": null,
      "outputs": []
    },
    {
      "cell_type": "code",
      "metadata": {
        "id": "dpxZZxVrgEya"
      },
      "source": [
        "# 강의실 테이블 SQL로 불러오기\n",
        "conn = sqlite3.connect(\"gmc.db\")\n",
        "\n",
        "cur = conn.cursor()\n",
        "\n",
        "cur.execute(\"SELECT * FROM classroom;\")\n",
        "# cur.execute(\"PRAGMA table_info(recommendation_history)\")\n",
        "\n",
        "rows = cur.fetchall()\n",
        "\n",
        "for row in rows[:20]:\n",
        "    # print(row)\n",
        "    print(row[0] + \" \" + row[1] + \" \" + str(row[2]))\n",
        "  \n",
        "conn.close()"
      ],
      "execution_count": null,
      "outputs": []
    }
  ]
}
